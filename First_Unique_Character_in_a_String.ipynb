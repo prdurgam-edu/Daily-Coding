{
  "nbformat": 4,
  "nbformat_minor": 0,
  "metadata": {
    "colab": {
      "provenance": [],
      "authorship_tag": "ABX9TyPyW5xtkqDsUoS4ipSrJhx2"
    },
    "kernelspec": {
      "name": "python3",
      "display_name": "Python 3"
    },
    "language_info": {
      "name": "python"
    }
  },
  "cells": [
    {
      "cell_type": "code",
      "execution_count": null,
      "metadata": {
        "id": "kNXe9r5j4kEU"
      },
      "outputs": [],
      "source": [
        "def firstUniqChar(self, s: str) -> int:\n",
        "    checked_alphabets=set()\n",
        "    len_arr=len(s)\n",
        "    for i in range(len_arr):\n",
        "        if s[i] in checked_alphabets:\n",
        "            pass\n",
        "        else:\n",
        "            checked_alphabets.add(s[i])\n",
        "            if s[i] not in s[i+1:]:\n",
        "                return(i)\n",
        "    return(-1)"
      ]
    }
  ]
}