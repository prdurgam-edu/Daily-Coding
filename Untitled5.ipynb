{
  "nbformat": 4,
  "nbformat_minor": 0,
  "metadata": {
    "colab": {
      "provenance": []
    },
    "kernelspec": {
      "name": "python3",
      "display_name": "Python 3"
    },
    "language_info": {
      "name": "python"
    }
  },
  "cells": [
    {
      "cell_type": "code",
      "execution_count": null,
      "metadata": {
        "id": "kNXe9r5j4kEU"
      },
      "outputs": [],
      "source": [
        "def lexicalOrder(self, n: int) -> List[int]:\n",
        "        def add_digits(n,number):\n",
        "            ans=[]\n",
        "            for i in range(10):\n",
        "                if int(str(number)+str(i))<=n:\n",
        "                    ans.append(int(str(number)+str(i)))\n",
        "                    ans+=add_digits(n,int(str(number)+str(i)))\n",
        "                else:\n",
        "                    break\n",
        "            return(ans)\n",
        "        ans=[]\n",
        "        for i in range(1,10):\n",
        "            if i<=n:\n",
        "                ans.append(i)\n",
        "                ans+=add_digits(n,i)\n",
        "            else:\n",
        "                break\n",
        "        return ans"
      ]
    }
  ]
}